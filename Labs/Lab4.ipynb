{
 "cells": [
  {
   "cell_type": "markdown",
   "id": "fifteen-sailing",
   "metadata": {},
   "source": [
    "# Лабораторная работа №4\n",
    "## Выполнил студент группы Готовко Антон БВТ2004"
   ]
  },
  {
   "cell_type": "markdown",
   "id": "arctic-stocks",
   "metadata": {},
   "source": [
    "Реализовать следующие структуры данных:\n",
    "  \n",
    "● <b> Стек (stack): </b>  \n",
    "Операции для стека: \n",
    "<i> инициализация, проверка на пустоту, добавление нового элемента в начало, извлечение элемента из начала;  </i>  \n",
    "  \n",
    "● <b> Дек (двусторонняя очередь, deque):  </b>  \n",
    "Операции для дека: \n",
    "<i> инициализация, проверка на пустоту, добавление нового элемента в начало, добавление нового элемента в конец, извлечение элемента из начала, извлечение элемента из конца. </i>  \n",
    "  \n",
    "<i> Разработать программу обработки данных, содержащихся в заранее подготовленном txt-файле, в соответствии с заданиями, применив указанную в задании структуру данных. Результат работы программы вывести на экран и сохранить в отдельном txt-файле. </i>"
   ]
  },
  {
   "cell_type": "markdown",
   "id": "5d7edb08",
   "metadata": {
    "scrolled": true
   },
   "source": [
    "### Задание №1\n",
    "Отсортировать строки файла, содержащие названия книг, в алфавитном порядке с использованием двух деков."
   ]
  },
  {
   "cell_type": "code",
   "execution_count": 1,
   "id": "938c209f",
   "metadata": {},
   "outputs": [],
   "source": [
    "class Stack:\n",
    "    def __init__(self):\n",
    "        self.elems = []\n",
    "\n",
    "    def add(self, value):\n",
    "        self.elems.insert(0,value)\n",
    "\n",
    "    def pop(self):\n",
    "        return self.elems.pop(0)\n",
    "\n",
    "    def isEmpty(self) -> bool:\n",
    "        return self.elems.__len__() == 0\n",
    "\n",
    "    def __str__(self) -> str:\n",
    "        return self.elems.__str__()\n",
    "\n",
    "class Deque(Stack):\n",
    "    def addRight(self, value):\n",
    "        self.elems.append(value)\n",
    "\n",
    "    def popRight(self):\n",
    "        return self.elems.pop(self.elems.__len__() - 1)"
   ]
  },
  {
   "cell_type": "code",
   "execution_count": 2,
   "id": "17702ade",
   "metadata": {},
   "outputs": [
    {
     "name": "stdout",
     "output_type": "stream",
     "text": [
      "['Альянс Неудачников', 'Забаненный', 'Наблюдатель', 'Пробуждение Системы 3: Быть сильнее', 'Талисман для князя']\n"
     ]
    }
   ],
   "source": [
    "def Sort(Deq1 = Deque(), Deq2 = Deque()) -> Deque:\n",
    "    with open(\"lab4_files/in1.txt\", \"r\",encoding = \"utf-8\") as Reader:\n",
    "        for i in Reader.readlines():\n",
    "            Deq1.addRight(i.removesuffix('\\n'))\n",
    "        while not Deq1.isEmpty():\n",
    "            tmp = 'ЯЯЯЯЯЯяяяяя'\n",
    "            tmp1 = 0\n",
    "            i = Deq1.elems.__len__() - 1\n",
    "            while 0 <= i:\n",
    "                if Deq1.elems[i] < tmp:\n",
    "                    tmp = Deq1.elems[i]\n",
    "                    tmp1 = i\n",
    "                i -= 1\n",
    "            len = Deq1.elems.__len__()\n",
    "            for i in range(len,tmp1, -1):\n",
    "                if i-1 == tmp1:\n",
    "                    Deq2.addRight(Deq1.popRight())\n",
    "                    break\n",
    "                Deq2.add(Deq1.popRight())\n",
    "            for i in range(len-tmp1-1):\n",
    "                Deq1.addRight(Deq2.pop())\n",
    "    with open(\"lab4_files/out1.txt\", \"w\", encoding=\"utf-8\") as Writer:\n",
    "        for i in Deq2.elems:\n",
    "            Writer.write(i+'\\n')\n",
    "    return Deq2\n",
    "\n",
    "print(Sort())"
   ]
  },
  {
   "cell_type": "markdown",
   "id": "49fbd2a0",
   "metadata": {},
   "source": [
    "### Задание №2\n",
    "Дек содержит последовательность символов для шифровки сообщений. Дан текстовый файл, содержащий зашифрованное сообщение. Пользуясь деком, расшифровать текст. \n",
    "Известно, что при шифровке каждый символ сообщения заменялся следующим за ним в деке по часовой стрелке через один."
   ]
  },
  {
   "cell_type": "code",
   "execution_count": 3,
   "id": "81cab7a8",
   "metadata": {},
   "outputs": [
    {
     "name": "stdout",
     "output_type": "stream",
     "text": [
      "сообщение\n"
     ]
    }
   ],
   "source": [
    "def decode(Deq1:Deque) -> str:\n",
    "    with open(\"lab4_files/in2.txt\", \"r\",encoding = \"utf-8\") as Reader:\n",
    "        for line in Reader.readlines():\n",
    "            Mes = line.removesuffix('\\n')\n",
    "        Result = ''\n",
    "        for i in range(len(Mes)):\n",
    "            while Deq1.elems[i] != Mes[i]:\n",
    "                Deq1.add(Deq1.popRight())\n",
    "            Deq1.add(Deq1.popRight())\n",
    "            Deq1.add(Deq1.popRight())\n",
    "            Result += Deq1.elems[i]\n",
    "        with open(\"out2.txt\", \"w\", encoding=\"utf-8\") as Writer:\n",
    "                Writer.write(Result + '\\n')\n",
    "    return Result\n",
    "\n",
    "\n",
    "Deq1 = Deque()\n",
    "for ch in str(\"шифробевксщупн\"):\n",
    "    Deq1.addRight(ch)\n",
    "print(decode(Deq1))"
   ]
  },
  {
   "cell_type": "markdown",
   "id": "c0894f47",
   "metadata": {},
   "source": [
    "### Задание №3\n",
    "Даны три стержня и n дисков различного размера. Диски можно надевать на стержни, образуя из них башни. Перенести n дисков со стержня А на стержень С, сохранив их первоначальный порядок. При переносе дисков необходимо соблюдать следующие правила:\n",
    "- на каждом шаге со стержня на стержень переносить только один диск;\n",
    "- диск нельзя помещать на диск меньшего размера;\n",
    "- для промежуточного хранения можно использовать стержень В.\n",
    "Реализовать алгоритм, используя три стека вместо стержней А, В, С. Информация о дисках хранится в исходном файле."
   ]
  },
  {
   "cell_type": "code",
   "execution_count": 4,
   "id": "9e91a9d4",
   "metadata": {},
   "outputs": [
    {
     "name": "stdout",
     "output_type": "stream",
     "text": [
      "['12', '15', '16', '20', '25', '30', '45', '60', '65']\n"
     ]
    }
   ],
   "source": [
    "rods = {1 : Stack(), 2 : Stack(), 3 : Stack()}\n",
    "def Hanoi():\n",
    "    with open(\"lab4_files/in3.txt\", \"r\", encoding=\"utf-8\") as Reader:\n",
    "        for line in Reader.readlines():\n",
    "            for elem in line.split(\" \")[::-1]:\n",
    "                rods[1].add(elem)\n",
    "    solve(len(rods[1].elems), 1, 3)\n",
    "    with open(\"lab4_files/out3.txt\",\"w\",encoding=\"utf-8\") as Writer:\n",
    "        for ch in rods[3].elems:\n",
    "            Writer.write(ch + \" \")\n",
    "    return rods[3].elems\n",
    "\n",
    "def solve(n, i, k):\n",
    "    if n == 1:\n",
    "        rods[k].add(rods[i].pop())\n",
    "    else:\n",
    "        solve(n - 1, i, 6 - i - k)\n",
    "        rods[k].add(rods[i].pop())\n",
    "        solve(n - 1, 6 - i - k, k)\n",
    "\n",
    "print(Hanoi())"
   ]
  },
  {
   "cell_type": "markdown",
   "id": "e5b0be17",
   "metadata": {},
   "source": [
    "### Задание №4\n",
    "Дан текстовый файл с программой на алгоритмическом языке. За один просмотр файла проверить баланс круглых скобок в тексте, используя стек."
   ]
  },
  {
   "cell_type": "code",
   "execution_count": 5,
   "id": "5b1df60a",
   "metadata": {},
   "outputs": [
    {
     "name": "stdout",
     "output_type": "stream",
     "text": [
      "True\n"
     ]
    }
   ],
   "source": [
    "def Balance(St1 = Stack()) -> bool:\n",
    "    with open(\"lab4_files/in4.txt\", \"r\", encoding=\"utf-8\") as Reader:\n",
    "        for line in Reader.readlines():\n",
    "            for ch in line:\n",
    "                if ch == '(':\n",
    "                    St1.add('(')\n",
    "                elif ch == ')':\n",
    "                    St1.pop()\n",
    "    with open(\"lab4_files/out4.txt\", \"w\", encoding=\"utf-8\") as Writer:\n",
    "                Writer.write(str(St1.isEmpty) + '\\n')\n",
    "    return St1.isEmpty()\n",
    "\n",
    "print(Balance())"
   ]
  },
  {
   "cell_type": "markdown",
   "id": "c44cdd6b",
   "metadata": {},
   "source": [
    "### Задание №5\n",
    "Дан текстовый файл с программой на алгоритмическом языке. За один просмотр файла проверить баланс квадратных скобок в тексте, используя дек."
   ]
  },
  {
   "cell_type": "code",
   "execution_count": 6,
   "id": "36b8f400",
   "metadata": {},
   "outputs": [
    {
     "name": "stdout",
     "output_type": "stream",
     "text": [
      "True\n"
     ]
    }
   ],
   "source": [
    "def Balance2(Deq1 = Deque()) -> bool:\n",
    "    with open(\"lab4_files/in5.txt\", \"r\", encoding=\"utf-8\") as file:\n",
    "        for line in file.readlines():\n",
    "            for ch in line:\n",
    "                if ch == '(':\n",
    "                    Deq1.add('(')\n",
    "                elif ch == ')':\n",
    "                    Deq1.popRight()\n",
    "    with open(\"lab4_files/out5.txt\", \"w\", encoding=\"utf-8\") as Writer:\n",
    "                Writer.write(str(Deq1.isEmpty) + '\\n')\n",
    "    return Deq1.isEmpty()\n",
    "\n",
    "print(Balance2())"
   ]
  },
  {
   "cell_type": "markdown",
   "id": "59d13dc7",
   "metadata": {},
   "source": [
    "### Задание №6\n",
    "Дан файл из символов. Используя стек, за один просмотр файла напечатать сначала все цифры, затем все буквы, и, наконец, все остальные символы, сохраняя исходный порядок в каждой группе символов."
   ]
  },
  {
   "cell_type": "code",
   "execution_count": 7,
   "id": "297e36c2",
   "metadata": {},
   "outputs": [
    {
     "name": "stdout",
     "output_type": "stream",
     "text": [
      "['0', '1', '2', '3', '4', '5', '6', '7', '8', '9', '1', '0', '1', '1', '1', '2', '1', '3', 'a', 'd', 's', 'f', 'k', 'j', 'h', 'l', 'k', 'd', 'f', 'h', 'k', 'j', 's', 'f', 'g', 'j', 'l', 'k', 'a', 'h', 'd', 'f', 'j', 'l', 'a', 'k', 'g', 'f', 'k', 'j', 'j', 's', 'd', 'f', 'k', 'j', 'g', 'x', 'c', 'j', 'k', 'v', 'm', 'n', 'x', 'c', 'b', 'v', 'a', 'k', 'l', 'd', 'j', 'f', 'i', 'a', 's', 'd', 'h', 'f', 'o', 'i', '@', '$', '$', '@', '@', '$']\n"
     ]
    }
   ],
   "source": [
    "import re\n",
    "\n",
    "def Symbols(St1:Stack):\n",
    "    with open(\"lab4_files/in6.txt\", \"r\",encoding = \"utf-8\") as file:\n",
    "        for line in file.readlines():\n",
    "            for ch in re.findall(r'[0-9]',line):\n",
    "                St1.add(ch)\n",
    "            for ch in re.findall(r'[a-zA-z]',line):\n",
    "                St1.add(ch)\n",
    "            for ch in re.findall(r'[\\W]',line):\n",
    "                St1.add(ch)\n",
    "    with open(\"lab4_files/out6.txt\", \"w\",encoding = \"utf-8\") as Writer:\n",
    "        for i in St1.elems[::-1]:\n",
    "            Writer.write(str(i) + \" \")\n",
    "    return St1.elems[::-1]\n",
    "    \n",
    "print(Symbols(Stack()))"
   ]
  },
  {
   "cell_type": "markdown",
   "id": "973f68bd",
   "metadata": {},
   "source": [
    "### Задание №7\n",
    "Дан файл из целых чисел. Используя дек, за один просмотр файла напечатать сначала все отрицательные числа, затем все положительные числа, сохраняя исходный порядок в каждой группе."
   ]
  },
  {
   "cell_type": "code",
   "execution_count": 8,
   "id": "c56fad66",
   "metadata": {},
   "outputs": [
    {
     "name": "stdout",
     "output_type": "stream",
     "text": [
      "['-11', '-1', '2', '5', '4', '3']\n"
     ]
    }
   ],
   "source": [
    "def Symbols2(St1:Stack):\n",
    "    with open(\"lab4_files/in7.txt\", \"r\",encoding = \"utf-8\") as file:\n",
    "        for line in file.readlines():\n",
    "            for ch in re.findall(r'[-]\\d+',line):\n",
    "                St1.add(ch)\n",
    "            for ch in re.findall(r'[-+]?\\d+',line):\n",
    "                if not int(ch) < 0:\n",
    "                    St1.add(ch)\n",
    "    with open(\"lab4_files/out7.txt\", \"w\",encoding = \"utf-8\") as Writer:\n",
    "        for i in St1.elems[::-1]:\n",
    "            Writer.write(str(i) + \" \")\n",
    "    return St1.elems[::-1]\n",
    "    \n",
    "print(Symbols2(Stack()))"
   ]
  },
  {
   "cell_type": "markdown",
   "id": "b9228191",
   "metadata": {},
   "source": [
    "### Задание №8\n",
    "Дан текстовый файл. Используя стек, сформировать новый текстовый файл, содержащий строки исходного файла, записанные в обратном порядке: первая строка становится последней, вторая – предпоследней и т.д."
   ]
  },
  {
   "cell_type": "code",
   "execution_count": 9,
   "id": "981fbdfe",
   "metadata": {},
   "outputs": [],
   "source": [
    "def Symbols(St1:Stack = Stack()):\n",
    "    with open(\"lab4_files/in8.txt\", \"r\",encoding = \"utf-8\") as Reader:\n",
    "        for line in Reader.readlines():\n",
    "            St1.add(line)\n",
    "    with open(\"lab4_files/out8.txt\", \"w\",encoding = \"utf-8\") as Writer:\n",
    "        while not St1.isEmpty():\n",
    "            Writer.write(St1.pop())\n",
    "                \n",
    "Symbols()"
   ]
  },
  {
   "cell_type": "markdown",
   "id": "rental-jerusalem",
   "metadata": {},
   "source": [
    "### Вывод\n"
   ]
  },
  {
   "cell_type": "markdown",
   "id": "0c2b8899",
   "metadata": {},
   "source": [
    "Ханойская башня самое неприятное задание"
   ]
  }
 ],
 "metadata": {
  "kernelspec": {
   "display_name": "Python 3 (ipykernel)",
   "language": "python",
   "name": "python3"
  },
  "language_info": {
   "codemirror_mode": {
    "name": "ipython",
    "version": 3
   },
   "file_extension": ".py",
   "mimetype": "text/x-python",
   "name": "python",
   "nbconvert_exporter": "python",
   "pygments_lexer": "ipython3",
   "version": "3.9.7"
  }
 },
 "nbformat": 4,
 "nbformat_minor": 5
}
