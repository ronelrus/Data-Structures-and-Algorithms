{
 "cells": [
  {
   "cell_type": "markdown",
   "metadata": {
    "id": "WPvB9TcMmKA6"
   },
   "source": [
    "# Лабораторная работа №5\n",
    "# Рекурсия. Фракталы."
   ]
  },
  {
   "cell_type": "markdown",
   "metadata": {
    "id": "96Gi_LEvmSVH"
   },
   "source": [
    "## Выполнил студент группы ФИО ГРУППА\n",
    "***"
   ]
  },
  {
   "cell_type": "markdown",
   "metadata": {
    "id": "4clYOyb0mbEv"
   },
   "source": [
    "### Задание:\n",
    "Реализовать генерацию заданного типа фрактала с применением рекурсивных функций.\n",
    "\n",
    "\n",
    "Добавить возможность задания глубины фрактала. \n",
    "\n",
    "\n",
    "Оценить глубину рекурсии. \n",
    "\n",
    "\n",
    "Построить таблицу зависимости времени построения от глубины фрактала."
   ]
  },
  {
   "cell_type": "markdown",
   "metadata": {
    "id": "wDXHbUmMmhRL"
   },
   "source": [
    "### Список фракталов:\n",
    "\n",
    "Кривая Коха\n",
    "| Кривая Гильберта\n",
    "| Кривая Серпинского\n",
    "| Салфетка Серпинского\n",
    "| Ковер Серпинского\n",
    "| Дерево Пифагора "
   ]
  },
  {
   "cell_type": "markdown",
   "metadata": {
    "id": "Wggfn8l7nG72"
   },
   "source": [
    "### Выполнение:"
   ]
  },
  {
   "cell_type": "code",
   "execution_count": 6,
   "metadata": {
    "id": "681a95mZnOSa"
   },
   "outputs": [],
   "source": [
    "import turtle\n",
    "import time\n",
    "\n",
    "def create_l_system(iters, axiom, rules):\n",
    "    start_string = axiom\n",
    "    if iters == 0:\n",
    "        return axiom\n",
    "    end_string = \"\"\n",
    "    for _ in range(iters):\n",
    "        end_string = \"\".join(rules[i] if i in rules else i for i in start_string)\n",
    "        start_string = end_string\n",
    "\n",
    "    return end_string\n",
    "\n",
    "\n",
    "def draw_l_system(t, instructions, angle, distance):\n",
    "    for cmd in instructions:\n",
    "        if cmd == 'F':\n",
    "            t.forward(distance)\n",
    "        elif cmd == '+':\n",
    "            t.right(angle)\n",
    "        elif cmd == '-':\n",
    "            t.left(angle)\n",
    "\n",
    "\n",
    "def main(iterations, axiom, rules, angle, length=8, size=2, y_offset=0,\n",
    "        x_offset=0, offset_angle=0, width=450, height=450):\n",
    "\n",
    "    inst = create_l_system(iterations, axiom, rules)\n",
    "    t = turtle.Turtle()\n",
    "    turtle.tracer(1, 0)  \n",
    "    wn = turtle.Screen()\n",
    "    wn.setup(width, height)\n",
    "    t.up()\n",
    "    t.backward(-x_offset)\n",
    "    t.left(90)\n",
    "    t.backward(-y_offset)\n",
    "    t.left(offset_angle)\n",
    "    t.down()\n",
    "    t.speed(30000)\n",
    "    t.pensize(size)\n",
    "    draw_l_system(t, inst, angle, length)\n",
    "    t.hideturtle()\n",
    "   "
   ]
  },
  {
   "cell_type": "markdown",
   "metadata": {},
   "source": [
    "# Кривая Коха"
   ]
  },
  {
   "cell_type": "code",
   "execution_count": 9,
   "metadata": {},
   "outputs": [
    {
     "name": "stdout",
     "output_type": "stream",
     "text": [
      "Введите глубину  - 4\n",
      "Глубина   Время\n",
      "    1     32.640759 ms    \n",
      "    2     48.255448 ms    \n",
      "    3     127.385478 ms    \n",
      "    4     609.624702 ms    \n"
     ]
    }
   ],
   "source": [
    "angle = 60\n",
    "axiom = \"F\"\n",
    "rules = {\"F\": \"F+F--F+F\" }\n",
    "\n",
    "iterations = int(input(\"Введите глубину  - \"))\n",
    "main(iterations, axiom, rules, angle, length=8, size=2, y_offset=-300, x_offset=500, offset_angle=90, width=1480, height=700)\n",
    "print(\"Глубина   Время\")\n",
    "for i in range (iterations):\n",
    "    start_time = time.perf_counter()\n",
    "    main(i+1, axiom, rules, angle, length=8, size=2, y_offset=-300, x_offset=500, offset_angle=90, width=1480, height=700)\n",
    "    print(\"   \", i+1, (\"    {:.6f} ms    \".format((time.perf_counter() - start_time) * 1000)))"
   ]
  },
  {
   "cell_type": "markdown",
   "metadata": {},
   "source": [
    "# Кривая Гильберта"
   ]
  },
  {
   "cell_type": "code",
   "execution_count": 2,
   "metadata": {},
   "outputs": [
    {
     "name": "stdout",
     "output_type": "stream",
     "text": [
      "Введите глубину - 5\n",
      "Глубина   Время\n",
      "    1     11.905100 ms    \n",
      "    2     26.323900 ms    \n",
      "    3     101.482000 ms    \n",
      "    4     493.500900 ms    \n",
      "    5     1956.449300 ms    \n"
     ]
    }
   ],
   "source": [
    "axiom = \"L\"\n",
    "rules = {\"L\":\"+RF-LFL-FR+\", \"R\":\"-LF+RFR+FL-\"}\n",
    "angle = 90\n",
    "iterations = int(input(\"Введите глубину - \"))\n",
    "main(iterations, axiom, rules, angle, length=8, size=2, y_offset=0, x_offset=0, offset_angle=0, width=600, height=600)\n",
    "print(\"Глубина   Время\")\n",
    "for i in range (iterations):\n",
    "    start_time = time.perf_counter()\n",
    "    main(i+1, axiom, rules, angle, length=8, size=2, y_offset=0, x_offset=0, offset_angle=0, width=600, height=600)\n",
    "    print(\"   \", i+1, (\"    {:.6f} ms    \".format((time.perf_counter() - start_time) * 1000)))"
   ]
  },
  {
   "cell_type": "markdown",
   "metadata": {},
   "source": [
    "# Кривая Серпинского"
   ]
  },
  {
   "cell_type": "code",
   "execution_count": 4,
   "metadata": {},
   "outputs": [
    {
     "name": "stdout",
     "output_type": "stream",
     "text": [
      "Введите глубину - 4\n",
      "Глубина   Время\n",
      "    1     50.309500 ms    \n",
      "    2     139.930700 ms    \n",
      "    3     573.295400 ms    \n",
      "    4     1754.338100 ms    \n",
      "    5     3185.516800 ms    \n"
     ]
    }
   ],
   "source": [
    "axiom = \"F+XF+F+XF\"\n",
    "rules = {\"X\":\"XF-F+F-XF+F+XF-F+F-X\"}\n",
    "angle = 90\n",
    "iterations = int(input(\"Введите глубину - \"))\n",
    "main(iterations, axiom, rules, angle, length=8, size=2, y_offset=0, x_offset=0, offset_angle=0, width=600, height=600)\n",
    "print(\"Глубина   Время\")\n",
    "for i in range (iterations):\n",
    "    start_time = time.perf_counter()\n",
    "    main(i+1, axiom, rules, angle, length=8, size=2, y_offset=0, x_offset=0, offset_angle=0, width=600, height=600)\n",
    "    print(\"   \", i+1, (\"    {:.6f} ms    \".format((time.perf_counter() - start_time) * 1000)))"
   ]
  },
  {
   "cell_type": "markdown",
   "metadata": {},
   "source": [
    "# Салфетка Серпинского"
   ]
  },
  {
   "cell_type": "code",
   "execution_count": 2,
   "metadata": {},
   "outputs": [
    {
     "name": "stdout",
     "output_type": "stream",
     "text": [
      "Введите глубину - 4\n",
      "Глубина   Время\n",
      "    1     31.189900 ms    \n",
      "    2     78.355800 ms    \n",
      "    3     300.995200 ms    \n",
      "    4     827.057100 ms    \n",
      "    5     2047.636100 ms    \n"
     ]
    }
   ],
   "source": [
    "axiom = \"FXF--FF--FF\"\n",
    "rules = {\"F\":\"FF\", \"X\":\"--FXF++FXF++FXF--\"}\n",
    "angle = 60\n",
    "iterations = int(input(\"Введите глубину - \"))\n",
    "main(iterations, axiom, rules, angle, length=8, size=2, y_offset=0, x_offset=0, offset_angle=0, width=1200, height=600)\n",
    "print(\"Глубина   Время\")\n",
    "for i in range (5):\n",
    "    start_time = time.perf_counter()\n",
    "    main(i+1, axiom, rules, angle, length=8, size=2, y_offset=0, x_offset=0, offset_angle=0, width=1200, height=600)\n",
    "    print(\"   \", i+1, (\"    {:.6f} ms    \".format((time.perf_counter() - start_time) * 1000)))"
   ]
  },
  {
   "cell_type": "markdown",
   "metadata": {},
   "source": [
    "# Ковер Серпинского"
   ]
  },
  {
   "cell_type": "code",
   "execution_count": 1,
   "metadata": {},
   "outputs": [
    {
     "name": "stdout",
     "output_type": "stream",
     "text": [
      "Введите глубину - 3\n",
      "Глубина   Время\n",
      "    1     16.093200 ms    \n",
      "    2     158.357800 ms    \n",
      "    3     3535.744500 ms    \n",
      "    4     27304.651700 ms    \n"
     ]
    }
   ],
   "source": [
    "import turtle\n",
    "import time\n",
    "def sierp_carpet(n, m):\n",
    "    if n == 0:\n",
    "        turtle.color('black')\n",
    "        turtle.begin_fill()\n",
    "        for _ in range(4):\n",
    "            turtle.forward(m)\n",
    "            turtle.left(90)\n",
    "        turtle.end_fill()\n",
    " \n",
    "    else:\n",
    "        for _ in range(4):\n",
    "            sierp_carpet(n - 1, m / 3)\n",
    "            turtle.forward(m / 3)\n",
    " \n",
    "            sierp_carpet(n - 1, m / 3)\n",
    "            turtle.forward(m / 3)\n",
    " \n",
    "            turtle.forward(m / 3)\n",
    "            turtle.left(90)\n",
    " \n",
    " \n",
    "turtle.tracer(100)\n",
    "turtle.ht()\n",
    "turtle.speed(300000)\n",
    "iterations = int(input(\"Введите глубину - \"))\n",
    "sierp_carpet(iterations, iterations*100)\n",
    "step = 1\n",
    "print(\"Глубина   Время\")\n",
    "for i in range (4):\n",
    "    start_time = time.perf_counter()\n",
    "    sierp_carpet(step, step*100)\n",
    "    print(\"   \", step, (\"    {:.6f} ms    \".format((time.perf_counter() - start_time) * 1000)))\n",
    "    step+=1"
   ]
  },
  {
   "cell_type": "markdown",
   "metadata": {},
   "source": [
    "#  Дерево Пифагора"
   ]
  },
  {
   "cell_type": "code",
   "execution_count": 1,
   "metadata": {},
   "outputs": [
    {
     "name": "stdout",
     "output_type": "stream",
     "text": [
      "Введите глубину - 4\n",
      "Глубина   Время\n",
      "    1     540.907300 ms    \n",
      "    2     889.229800 ms    \n",
      "    3     1598.010800 ms    \n",
      "    4     2979.984800 ms    \n"
     ]
    }
   ],
   "source": [
    "from turtle import*\n",
    "from math import* \n",
    "import time\n",
    "def fractal(aturt, depth, maxdepth):  \n",
    "    if depth > maxdepth:  \n",
    "        return \n",
    "    length = 180*((sqrt(2)/2)**depth)  \n",
    "    anotherturt = aturt.clone()  \n",
    "    aturt.forward(length)  \n",
    "    aturt.left(45)  \n",
    "    fractal(aturt, depth+1, maxdepth)  \n",
    "    anotherturt.right(90)  \n",
    "    anotherturt.forward(length)  \n",
    "    anotherturt.left(90)  \n",
    "    anotherturt.forward(length)  \n",
    "    if depth != maxdepth:  \n",
    "        turt3 = anotherturt.clone()  \n",
    "        turt3.left(45)  \n",
    "        turt3.forward(180*((sqrt(2)/2)**(1+depth)))  \n",
    "        turt3.right(90)  \n",
    "        fractal(turt3, depth+1, maxdepth)  \n",
    "    anotherturt.left(90)  \n",
    "    anotherturt.forward(length)  \n",
    "def draw_fractal(maxdepth):  \n",
    "    window = Screen()  \n",
    "    t = Turtle()  \n",
    "    t.hideturtle()  \n",
    "    t.penup()  \n",
    "    t.goto(-75, -225)  \n",
    "    t.pendown()  \n",
    "    t.speed(100000)  \n",
    "    t.left(90)  \n",
    "    fractal(t, 1, maxdepth)  \n",
    "    \n",
    "    \n",
    "iterations = int(input(\"Введите глубину - \"))\n",
    "draw_fractal(iterations) \n",
    "step = 1\n",
    "print(\"Глубина   Время\")\n",
    "for i in range (4):\n",
    "    start_time = time.perf_counter()\n",
    "    draw_fractal(step)\n",
    "    print(\"   \", step, (\"    {:.6f} ms    \".format((time.perf_counter() - start_time) * 1000)))\n",
    "    step+=1"
   ]
  },
  {
   "cell_type": "markdown",
   "metadata": {
    "id": "diOb-K7LnO5a"
   },
   "source": [
    "### Вывод"
   ]
  }
 ],
 "metadata": {
  "colab": {
   "collapsed_sections": [],
   "name": "Lab5.ipynb",
   "provenance": []
  },
  "kernelspec": {
   "display_name": "Python 3 (ipykernel)",
   "language": "python",
   "name": "python3"
  },
  "language_info": {
   "codemirror_mode": {
    "name": "ipython",
    "version": 3
   },
   "file_extension": ".py",
   "mimetype": "text/x-python",
   "name": "python",
   "nbconvert_exporter": "python",
   "pygments_lexer": "ipython3",
   "version": "3.10.2"
  }
 },
 "nbformat": 4,
 "nbformat_minor": 1
}
