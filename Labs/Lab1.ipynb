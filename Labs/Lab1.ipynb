{
 "cells": [
  {
   "cell_type": "markdown",
   "id": "fifteen-sailing",
   "metadata": {},
   "source": [
    "# Лабораторная работа №1\n",
    "## Выполнил студент группы БВТ2004 Готовко Антон"
   ]
  },
  {
   "cell_type": "markdown",
   "id": "particular-syndicate",
   "metadata": {},
   "source": [
    "### Оглавление\n",
    "1. [Задание 1](#Задание-№1)\n",
    "2. [Задание 2](#Задание-№2)\n",
    "3. [Задание 3](#Задание-№3)\n",
    "4. [Вывод](#Вывод)"
   ]
  },
  {
   "cell_type": "markdown",
   "id": "arctic-stocks",
   "metadata": {},
   "source": [
    "### Задание №1\n",
    "<i> Вызвать функцию print() и передать туда строку Hello, World! </i>"
   ]
  },
  {
   "cell_type": "code",
   "execution_count": 2,
   "id": "caring-truck",
   "metadata": {
    "scrolled": true
   },
   "outputs": [
    {
     "name": "stdout",
     "output_type": "stream",
     "text": [
      "Hello, World!\n"
     ]
    }
   ],
   "source": [
    "print('Hello, World!')"
   ]
  },
  {
   "cell_type": "markdown",
   "id": "maritime-conversation",
   "metadata": {},
   "source": [
    "### Задание №2\n",
    "Написать генератор случайных матриц(многомерных), который принимает\n",
    "опциональные параметры <b>m</b>, <b>n</b>, <b>min_limit</b>, <b>max_limit</b>, где <b>m</b> и <b>n</b> указывают размер\n",
    "матрицы, а <b>min_lim</b> и <b>max_lim</b> - минимальное и максимальное значение для\n",
    "генерируемого числа."
   ]
  },
  {
   "cell_type": "code",
   "execution_count": 3,
   "id": "built-contact",
   "metadata": {},
   "outputs": [],
   "source": [
    "import random\n",
    "import time"
   ]
  },
  {
   "cell_type": "code",
   "execution_count": 4,
   "id": "alert-charm",
   "metadata": {},
   "outputs": [
    {
     "name": "stdout",
     "output_type": "stream",
     "text": [
      "Введите число: 10\n",
      "Введите число: 10\n",
      "Введите число: 0\n",
      "Введите число: 20\n",
      "\n",
      " 13  13  14   9   1  20  18   5  10   4 \n",
      " 16   9   6  10  15   2  10   5  19  11 \n",
      " 14   6  13  15   4  10   7   5   7   2 \n",
      " 10   9  12   0   6   0  11  15  17  10 \n",
      " 14  18  13   9   7   3  10   3   8  14 \n",
      "  2  18   8   9   2   7   9   7  17   4 \n",
      "  0  17  16  10  13   5  19   8   8  17 \n",
      " 16   3  16  14  19   6  13   3  19   5 \n",
      " 20   8   2   6   3  12   3  11   1  16 \n",
      " 16   0  10  20  19   1   0  10  18  13 "
     ]
    }
   ],
   "source": [
    "def rand_mat(m,n,min,max):\n",
    "    mat = [[0]*n for i in range(m)]\n",
    "    random.seed(time.time())\n",
    "    for i in range(n):\n",
    "        for j in range(m):\n",
    "            mat[i][j] = random.randint(min,max)\n",
    "    return mat\n",
    "\n",
    "def print_mat(mat:list[list[int]]):\n",
    "    for i in range(len(mat)):\n",
    "        print('\\n',end='')\n",
    "        for j in range(len(mat[i])):\n",
    "            print('{:3}'.format(mat[i][j]),end=' ')\n",
    "\n",
    "user_m = int(input('Введите число: '))\n",
    "user_n = int(input('Введите число: '))\n",
    "user_min_limit = int(input('Введите число: '))\n",
    "user_max_limit = int(input('Введите число: '))\n",
    "mat = rand_mat(user_m, user_n, user_min_limit, user_max_limit)\n",
    "print_mat(mat)"
   ]
  },
  {
   "cell_type": "markdown",
   "id": "catholic-roots",
   "metadata": {},
   "source": [
    "### Задание №3\n",
    "Реализовать методы сортировки строк числовой матрицы в соответствии с\n",
    "заданием. Оценить время работы каждого алгоритма сортировки и сравнить его со\n",
    "временем стандартной функции сортировки. Испытания проводить на сгенерированных\n",
    "матрицах."
   ]
  },
  {
   "cell_type": "code",
   "execution_count": 5,
   "id": "opposed-creature",
   "metadata": {},
   "outputs": [],
   "source": [
    "import copy"
   ]
  },
  {
   "cell_type": "code",
   "execution_count": 31,
   "id": "cleared-anniversary",
   "metadata": {},
   "outputs": [
    {
     "name": "stdout",
     "output_type": "stream",
     "text": [
      "\n",
      " 13  13  14   9   1  20  18   5  10   4 \n",
      " 16   9   6  10  15   2  10   5  19  11 \n",
      " 14   6  13  15   4  10   7   5   7   2 \n",
      " 10   9  12   0   6   0  11  15  17  10 \n",
      " 14  18  13   9   7   3  10   3   8  14 \n",
      "  2  18   8   9   2   7   9   7  17   4 \n",
      "  0  17  16  10  13   5  19   8   8  17 \n",
      " 16   3  16  14  19   6  13   3  19   5 \n",
      " 20   8   2   6   3  12   3  11   1  16 \n",
      " 16   0  10  20  19   1   0  10  18  13 \n",
      "--- 0.156600 ms ---\n",
      "\n",
      "  0   0   1  10  10  13  16  18  19  20 \n",
      "  0   0   6   9  10  10  11  12  15  17 \n",
      "  0   5   8   8  10  13  16  17  17  19 \n",
      "  1   2   3   3   6   8  11  12  16  20 \n",
      "  1   4   5   9  10  13  13  14  18  20 \n",
      "  2   2   4   7   7   8   9   9  17  18 \n",
      "  2   4   5   6   7   7  10  13  14  15 \n",
      "  2   5   6   9  10  10  11  15  16  19 \n",
      "  3   3   5   6  13  14  16  16  19  19 \n",
      "  3   3   7   8   9  10  13  14  14  18 "
     ]
    }
   ],
   "source": [
    "# Сортировка выбором.\n",
    "# Берётся срез массива, в котором минимальный элемент переносят в самый левый угол,\n",
    "# после чего срез уменьшается и цикл повторяется.\n",
    "def sel_sort(sort:list):\n",
    "    for i in range(len(sort) - 1):\n",
    "        min = sort[i]\n",
    "        index = i\n",
    "        for j in range(i, len(sort)):\n",
    "            if min > sort[j]:\n",
    "                min = sort[j]\n",
    "                index = j\n",
    "        sort[index],sort[i] = sort[i], sort[index]\n",
    "\n",
    "\n",
    "matr = copy.deepcopy(mat)\n",
    "print_mat(matr)\n",
    "start_time = time.perf_counter()\n",
    "for rows in matr:\n",
    "    sel_sort(rows)\n",
    "sel_sort(matr)\n",
    "print(\"\\n--- {:6f} ms ---\".format((time.perf_counter() - start_time)*1000))\n",
    "print_mat(matr)"
   ]
  },
  {
   "cell_type": "code",
   "execution_count": 38,
   "id": "roman-silly",
   "metadata": {
    "scrolled": true
   },
   "outputs": [
    {
     "name": "stdout",
     "output_type": "stream",
     "text": [
      "\n",
      " 13  13  14   9   1  20  18   5  10   4 \n",
      " 16   9   6  10  15   2  10   5  19  11 \n",
      " 14   6  13  15   4  10   7   5   7   2 \n",
      " 10   9  12   0   6   0  11  15  17  10 \n",
      " 14  18  13   9   7   3  10   3   8  14 \n",
      "  2  18   8   9   2   7   9   7  17   4 \n",
      "  0  17  16  10  13   5  19   8   8  17 \n",
      " 16   3  16  14  19   6  13   3  19   5 \n",
      " 20   8   2   6   3  12   3  11   1  16 \n",
      " 16   0  10  20  19   1   0  10  18  13 \n",
      "--- 0.143500 ms ---\n",
      "\n",
      "  0   0   1  10  10  13  16  18  19  20 \n",
      "  0   0   6   9  10  10  11  12  15  17 \n",
      "  0   5   8   8  10  13  16  17  17  19 \n",
      "  1   2   3   3   6   8  11  12  16  20 \n",
      "  1   4   5   9  10  13  13  14  18  20 \n",
      "  2   2   4   7   7   8   9   9  17  18 \n",
      "  2   4   5   6   7   7  10  13  14  15 \n",
      "  2   5   6   9  10  10  11  15  16  19 \n",
      "  3   3   5   6  13  14  16  16  19  19 \n",
      "  3   3   7   8   9  10  13  14  14  18 "
     ]
    }
   ],
   "source": [
    "# Сортировка вставкой.\n",
    "def ins_sort(sort:list):\n",
    "    for i in range(1,len(sort)):\n",
    "        tmp = sort[i]\n",
    "        j = i - 1\n",
    "        while(j >= 0 and tmp <= sort[j]):\n",
    "            sort[j+1] = sort[j]\n",
    "            j = j - 1\n",
    "        sort[j+1] = tmp\n",
    "\n",
    "\n",
    "matr = copy.deepcopy(mat)\n",
    "print_mat(matr)\n",
    "start_time = time.perf_counter()\n",
    "for rows in matr:\n",
    "    ins_sort(rows)\n",
    "ins_sort(matr)\n",
    "print(\"\\n--- {:6f} ms ---\".format((time.perf_counter() - start_time)*1000))\n",
    "print_mat(matr)"
   ]
  },
  {
   "cell_type": "code",
   "execution_count": 33,
   "id": "vital-implementation",
   "metadata": {},
   "outputs": [
    {
     "name": "stdout",
     "output_type": "stream",
     "text": [
      "\n",
      " 13  13  14   9   1  20  18   5  10   4 \n",
      " 16   9   6  10  15   2  10   5  19  11 \n",
      " 14   6  13  15   4  10   7   5   7   2 \n",
      " 10   9  12   0   6   0  11  15  17  10 \n",
      " 14  18  13   9   7   3  10   3   8  14 \n",
      "  2  18   8   9   2   7   9   7  17   4 \n",
      "  0  17  16  10  13   5  19   8   8  17 \n",
      " 16   3  16  14  19   6  13   3  19   5 \n",
      " 20   8   2   6   3  12   3  11   1  16 \n",
      " 16   0  10  20  19   1   0  10  18  13 \n",
      "--- 0.187300 ms ---\n",
      "\n",
      "  0   0   1  10  10  13  16  18  19  20 \n",
      "  0   0   6   9  10  10  11  12  15  17 \n",
      "  0   5   8   8  10  13  16  17  17  19 \n",
      "  1   2   3   3   6   8  11  12  16  20 \n",
      "  1   4   5   9  10  13  13  14  18  20 \n",
      "  2   2   4   7   7   8   9   9  17  18 \n",
      "  2   4   5   6   7   7  10  13  14  15 \n",
      "  2   5   6   9  10  10  11  15  16  19 \n",
      "  3   3   5   6  13  14  16  16  19  19 \n",
      "  3   3   7   8   9  10  13  14  14  18 "
     ]
    }
   ],
   "source": [
    "# Сортировка обменом. || Сортировка пузырьком.\n",
    "def bub_sort(sort:list):\n",
    "    for i in range(len(sort)-1):\n",
    "        for j in range(len(sort)-1-i):\n",
    "            if sort[j] > sort[j+1]:\n",
    "                sort[j], sort[j+1] = sort[j+1],sort[j]\n",
    "\n",
    "\n",
    "\n",
    "\n",
    "matr = copy.deepcopy(mat)\n",
    "print_mat(matr)\n",
    "start_time = time.perf_counter()\n",
    "for rows in matr:\n",
    "    bub_sort(rows)\n",
    "bub_sort(matr)\n",
    "print(\"\\n--- {:6f} ms ---\".format((time.perf_counter() - start_time)*1000))\n",
    "print_mat(matr)"
   ]
  },
  {
   "cell_type": "code",
   "execution_count": 34,
   "id": "veterinary-glory",
   "metadata": {},
   "outputs": [
    {
     "name": "stdout",
     "output_type": "stream",
     "text": [
      "\n",
      " 13  13  14   9   1  20  18   5  10   4 \n",
      " 16   9   6  10  15   2  10   5  19  11 \n",
      " 14   6  13  15   4  10   7   5   7   2 \n",
      " 10   9  12   0   6   0  11  15  17  10 \n",
      " 14  18  13   9   7   3  10   3   8  14 \n",
      "  2  18   8   9   2   7   9   7  17   4 \n",
      "  0  17  16  10  13   5  19   8   8  17 \n",
      " 16   3  16  14  19   6  13   3  19   5 \n",
      " 20   8   2   6   3  12   3  11   1  16 \n",
      " 16   0  10  20  19   1   0  10  18  13 \n",
      "--- 0.149700 ms ---\n",
      "\n",
      "  0   0   1  10  10  13  16  18  19  20 \n",
      "  0   0   6   9  10  10  11  12  15  17 \n",
      "  0   5   8   8  10  13  16  17  17  19 \n",
      "  1   2   3   3   6   8  11  12  16  20 \n",
      "  1   4   5   9  10  13  13  14  18  20 \n",
      "  2   2   4   7   7   8   9   9  17  18 \n",
      "  2   4   5   6   7   7  10  13  14  15 \n",
      "  2   5   6   9  10  10  11  15  16  19 \n",
      "  3   3   5   6  13  14  16  16  19  19 \n",
      "  3   3   7   8   9  10  13  14  14  18 "
     ]
    }
   ],
   "source": [
    "# Сортировка Шелла.\n",
    "def shell_sort(sort:list):\n",
    "    d = len(sort) >> 1\n",
    "    while d:\n",
    "        for i in range(d, len(sort)):\n",
    "            tmp = sort[i]\n",
    "            j = i - d\n",
    "            while (j >= 0 and tmp <= sort[j]):\n",
    "                sort[j + d] = sort[j]\n",
    "                j = j - d\n",
    "            sort[j + d] = tmp\n",
    "        d = d >> 1\n",
    "\n",
    "\n",
    "matr = copy.deepcopy(mat)\n",
    "print_mat(matr)\n",
    "start_time = time.perf_counter()\n",
    "for rows in matr:\n",
    "    shell_sort(rows)\n",
    "shell_sort(matr)\n",
    "print(\"\\n--- {:6f} ms ---\".format((time.perf_counter() - start_time)*1000))\n",
    "print_mat(matr)"
   ]
  },
  {
   "cell_type": "code",
   "execution_count": 35,
   "id": "correct-chaos",
   "metadata": {},
   "outputs": [
    {
     "name": "stdout",
     "output_type": "stream",
     "text": [
      "\n",
      " 13  13  14   9   1  20  18   5  10   4 \n",
      " 16   9   6  10  15   2  10   5  19  11 \n",
      " 14   6  13  15   4  10   7   5   7   2 \n",
      " 10   9  12   0   6   0  11  15  17  10 \n",
      " 14  18  13   9   7   3  10   3   8  14 \n",
      "  2  18   8   9   2   7   9   7  17   4 \n",
      "  0  17  16  10  13   5  19   8   8  17 \n",
      " 16   3  16  14  19   6  13   3  19   5 \n",
      " 20   8   2   6   3  12   3  11   1  16 \n",
      " 16   0  10  20  19   1   0  10  18  13 \n",
      "--- 0.700700 ms ---\n",
      "\n",
      "  0   0   1  10  10  13  16  18  19  20 \n",
      "  0   0   6   9  10  10  11  12  15  17 \n",
      "  0   5   8   8  10  13  16  17  17  19 \n",
      "  1   2   3   3   6   8  11  12  16  20 \n",
      "  1   4   5   9  10  13  13  14  18  20 \n",
      "  2   2   4   7   7   8   9   9  17  18 \n",
      "  2   4   5   6   7   7  10  13  14  15 \n",
      "  2   5   6   9  10  10  11  15  16  19 \n",
      "  3   3   5   6  13  14  16  16  19  19 \n",
      "  3   3   7   8   9  10  13  14  14  18 "
     ]
    }
   ],
   "source": [
    "# Быстрая сортировка.\n",
    "def fast_sort(sort:list, min, max):\n",
    "    if min >= max:\n",
    "        return\n",
    "    else:\n",
    "        rand = random.choice(sort[min:max + 1])\n",
    "        i = min\n",
    "        j = max\n",
    "        while i <= j:\n",
    "            while sort[i] < rand:\n",
    "                i += 1\n",
    "            while sort[j] > rand:\n",
    "                j -= 1\n",
    "            if i <= j:\n",
    "                sort[i], sort[j] = sort[j], sort[i]\n",
    "                i += 1\n",
    "                j -= 1\n",
    "                fast_sort(sort, min, j)\n",
    "                fast_sort(sort, i, max)\n",
    "\n",
    "\n",
    "matr = copy.deepcopy(mat)\n",
    "print_mat(matr)\n",
    "start_time = time.perf_counter()\n",
    "for rows in matr:\n",
    "    fast_sort(rows,0,len(rows)-1)\n",
    "fast_sort(matr,0,len(matr)-1)\n",
    "print(\"\\n--- {:6f} ms ---\".format((time.perf_counter() - start_time)*1000))\n",
    "print_mat(matr)"
   ]
  },
  {
   "cell_type": "code",
   "execution_count": 36,
   "id": "french-czech",
   "metadata": {},
   "outputs": [
    {
     "name": "stdout",
     "output_type": "stream",
     "text": [
      "\n",
      " 13  13  14   9   1  20  18   5  10   4 \n",
      " 16   9   6  10  15   2  10   5  19  11 \n",
      " 14   6  13  15   4  10   7   5   7   2 \n",
      " 10   9  12   0   6   0  11  15  17  10 \n",
      " 14  18  13   9   7   3  10   3   8  14 \n",
      "  2  18   8   9   2   7   9   7  17   4 \n",
      "  0  17  16  10  13   5  19   8   8  17 \n",
      " 16   3  16  14  19   6  13   3  19   5 \n",
      " 20   8   2   6   3  12   3  11   1  16 \n",
      " 16   0  10  20  19   1   0  10  18  13 \n",
      "--- 0.251300 ms ---\n",
      "\n",
      "  0   0   1  10  10  13  16  18  19  20 \n",
      "  0   0   6   9  10  10  11  12  15  17 \n",
      "  0   5   8   8  10  13  16  17  17  19 \n",
      "  1   2   3   3   6   8  11  12  16  20 \n",
      "  1   4   5   9  10  13  13  14  18  20 \n",
      "  2   2   4   7   7   8   9   9  17  18 \n",
      "  2   4   5   6   7   7  10  13  14  15 \n",
      "  2   5   6   9  10  10  11  15  16  19 \n",
      "  3   3   5   6  13  14  16  16  19  19 \n",
      "  3   3   7   8   9  10  13  14  14  18 "
     ]
    }
   ],
   "source": [
    "# Турнирная сортировка.\n",
    "def heapify(nums, heap_size, root_index):\n",
    "    largest = root_index\n",
    "    left_child = (2 * root_index) + 1\n",
    "    right_child = (2 * root_index) + 2\n",
    "\n",
    "    if left_child < heap_size and nums[left_child] > nums[largest]:\n",
    "        largest = left_child\n",
    "\n",
    "    if right_child < heap_size and nums[right_child] > nums[largest]:\n",
    "        largest = right_child\n",
    "\n",
    "    if largest != root_index:\n",
    "        nums[root_index], nums[largest] = nums[largest], nums[root_index]\n",
    "        heapify(nums, heap_size, largest)\n",
    "\n",
    "def heap_sort(sort:list):\n",
    "    n = len(sort)\n",
    "    \n",
    "    for i in range(n, -1, -1):\n",
    "        heapify(sort, n, i)\n",
    "        \n",
    "    for i in range(n - 1, 0, -1):\n",
    "        sort[i], sort[0] = sort[0], sort[i]\n",
    "        heapify(sort, i, 0)\n",
    "        \n",
    "matr = copy.deepcopy(mat)\n",
    "print_mat(matr)\n",
    "start_time = time.perf_counter()\n",
    "for rows in matr:\n",
    "    heap_sort(rows)\n",
    "heap_sort(matr)\n",
    "print(\"\\n--- {:6f} ms ---\".format((time.perf_counter() - start_time)*1000))\n",
    "print_mat(matr)"
   ]
  },
  {
   "cell_type": "markdown",
   "id": "rental-jerusalem",
   "metadata": {},
   "source": [
    "### Вывод\n"
   ]
  },
  {
   "cell_type": "code",
   "execution_count": null,
   "id": "19e7f6a9",
   "metadata": {},
   "outputs": [],
   "source": [
    "В ходе лабораторной работы стало понятно, что сортировка Шелла и сортировка вставкой оказались наиболее эффективными."
   ]
  }
 ],
 "metadata": {
  "kernelspec": {
   "display_name": "Python 3 (ipykernel)",
   "language": "python",
   "name": "python3"
  },
  "language_info": {
   "codemirror_mode": {
    "name": "ipython",
    "version": 3
   },
   "file_extension": ".py",
   "mimetype": "text/x-python",
   "name": "python",
   "nbconvert_exporter": "python",
   "pygments_lexer": "ipython3",
   "version": "3.9.7"
  }
 },
 "nbformat": 4,
 "nbformat_minor": 5
}
